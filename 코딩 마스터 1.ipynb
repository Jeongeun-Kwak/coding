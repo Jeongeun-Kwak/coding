{
 "cells": [
  {
   "cell_type": "markdown",
   "metadata": {},
   "source": [
    "# 문자열 내림차순으로 배치하기"
   ]
  },
  {
   "cell_type": "markdown",
   "metadata": {},
   "source": [
    "문자열 s에 나타나는 문자를 큰것부터 작은 순으로 정렬해 새로운 문자열을 리턴하는 함수, solution을 완성해주세요.\n",
    "s는 영문 대소문자로만 구성되어 있으며, 대문자는 소문자보다 작은 것으로 간주합니다."
   ]
  },
  {
   "cell_type": "markdown",
   "metadata": {},
   "source": [
    "- 문제 본 날: 2020.02.01\n",
    "- 문제 푼 날: 2020.02.01"
   ]
  },
  {
   "cell_type": "code",
   "execution_count": 23,
   "metadata": {},
   "outputs": [
    {
     "data": {
      "text/plain": [
       "'kjdaF'"
      ]
     },
     "execution_count": 23,
     "metadata": {},
     "output_type": "execute_result"
    }
   ],
   "source": [
    "# 아스키 코드는 소문자가 대문자보다 크다.\n",
    "# 문자를 아스키코드로 바꾼 후 다시 문자로 바꿔보면 어떨까?\n",
    "def solution(s):\n",
    "    answer = []\n",
    "    ch_answer = []\n",
    "    list_s = list(s)\n",
    "    for i in range(0, len(s)):\n",
    "        answer.append(ord(list_s[i]))\n",
    "    \n",
    "    answer.sort(reverse=True) # sort() 함수는 문자열 정렬이 되지 않음.\n",
    "    \n",
    "    for j in range(0, len(answer)):\n",
    "        ch_answer.append(chr(answer[j]))\n",
    "        \n",
    "    return \"\".join(ch_answer)\n",
    "\n",
    "s = 'ajdkF'     \n",
    "solution(s)"
   ]
  },
  {
   "cell_type": "markdown",
   "metadata": {},
   "source": [
    "- 다른 사람의 풀이"
   ]
  },
  {
   "cell_type": "code",
   "execution_count": 25,
   "metadata": {},
   "outputs": [
    {
     "data": {
      "text/plain": [
       "'kjdaF'"
      ]
     },
     "execution_count": 25,
     "metadata": {},
     "output_type": "execute_result"
    }
   ],
   "source": [
    "def solution(s):\n",
    "    return ''.join(sorted(s, reverse=True)) # sorted쓰면 문자열도 정렬됨.\n",
    "\n",
    "s = 'ajdkF'     \n",
    "solution(s)"
   ]
  },
  {
   "cell_type": "markdown",
   "metadata": {},
   "source": [
    "# 서울에서 김서방 찾기"
   ]
  },
  {
   "cell_type": "markdown",
   "metadata": {},
   "source": [
    "String형 배열 seoul의 element중 Kim의 위치 x를 찾아, 김서방은 x에 있다는 String을 반환하는 함수, solution을 완성하세요. seoul에 Kim은 오직 한 번만 나타나며 잘못된 값이 입력되는 경우는 없습니다."
   ]
  },
  {
   "cell_type": "markdown",
   "metadata": {},
   "source": [
    "- 문제 본 날: 2020.02.01\n",
    "- 문제 푼 날: 2020.02.02"
   ]
  },
  {
   "cell_type": "code",
   "execution_count": 22,
   "metadata": {},
   "outputs": [
    {
     "data": {
      "text/plain": [
       "'김서방은 1에 있다'"
      ]
     },
     "execution_count": 22,
     "metadata": {},
     "output_type": "execute_result"
    }
   ],
   "source": [
    "def solution(seoul):\n",
    "    \n",
    "    for i in range(0, len(seoul)):\n",
    "        if seoul[i] == \"Kim\":\n",
    "            return f\"김서방은 {i}에 있다\" # print()로 출력하면 문자열로 나오지 않음.\n",
    " \n",
    "seoul = [\"Jane\", \"Kim\"]           \n",
    "solution(seoul)        "
   ]
  },
  {
   "cell_type": "markdown",
   "metadata": {},
   "source": [
    "- 다른 사람의 풀이"
   ]
  },
  {
   "cell_type": "code",
   "execution_count": 27,
   "metadata": {},
   "outputs": [
    {
     "data": {
      "text/plain": [
       "'김서방은 1에 있다'"
      ]
     },
     "execution_count": 27,
     "metadata": {},
     "output_type": "execute_result"
    }
   ],
   "source": [
    "def solution(seoul):\n",
    "    return \"김서방은 {}에 있다\".format(seoul.index('Kim'))\n",
    "\n",
    "# index() 함수는 배열에서 값을 찾아주는 함수, 중복된 값이 있으면 가장 최소의 위치를 리턴\n",
    "# format() 함수를 사용하면 따로 변수?, 인수?를 지정하지 않아도 {}의 자리를 찾아감.\n",
    "seoul = [\"Jane\", \"Kim\"]           \n",
    "solution(seoul)        "
   ]
  },
  {
   "cell_type": "markdown",
   "metadata": {},
   "source": [
    "# 비밀지도"
   ]
  },
  {
   "cell_type": "markdown",
   "metadata": {},
   "source": [
    "네오는 평소 프로도가 비상금을 숨겨놓는 장소를 알려줄 비밀지도를 손에 넣었다. 그런데 이 비밀지도는 숫자로 암호화되어 있어 위치를 확인하기 위해서는 암호를 해독해야 한다. 다행히 지도 암호를 해독할 방법을 적어놓은 메모도 함께 발견했다.\n",
    "\n",
    "1. 지도는 한 변의 길이가 n인 정사각형 배열 형태로, 각 칸은 공백(\"\") 또는벽(\"#\") 두 종류로 이루어져 있다.\n",
    "2. 전체 지도는 두 장의 지도를 겹쳐서 얻을 수 있다. 각각 지도 1과 지도 2라고 하자. 지도 1 또는 지도 2 중 어느 하나라도 벽인 부분은 전체 지도에서도 벽이다. 지도 1과 지도 2에서 모두 공백인 부분은 전체 지도에서도 공백이다.\n",
    "3. 지도 1과 지도 2는 각각 정수 배열로 암호화되어 있다.\n",
    "4. 암호화된 배열은 지도의 각 가로줄에서 벽 부분을 1, 공백 부분을 0으로 부호화했을 때 얻어지는 이진수에 해당하는 값의 배열이다.\n",
    "\n",
    "네오가 프로도의 비상금을 손에 넣을 수 있도록, 비밀지도의 암호를 해독하는 작업을 도와줄 프로그램을 작성하라.\n",
    "\n",
    "<입력형식>\n",
    "입력으로 지도의 한 변 크기 n 과 2개의 정수 배열 arr1, arr2가 들어온다.\n",
    "\n",
    "- 1 ≦ n ≦ 16     \n",
    "- arr1, arr2는 길이 n인 정수 배열로 주어진다.\n",
    "- 정수 배열의 각 원소 x를 이진수로 변환했을 때의 길이는 n 이하이다. 즉, 0 ≦ x ≦ 2n - 1을 만족한다.\n",
    "\n",
    "<출력 형식>\n",
    "원래의 비밀지도를 해독하여 '#', 공백으로 구성된 문자열 배열로 출력하라."
   ]
  },
  {
   "cell_type": "markdown",
   "metadata": {},
   "source": [
    "![비밀지도](http://t1.kakaocdn.net/welcome2018/secret8.png “비밀지도”)"
   ]
  },
  {
   "cell_type": "markdown",
   "metadata": {},
   "source": [
    "- 문제 본 날: 2020.02.01\n",
    "- 문제 푼 날: 2020.02.03"
   ]
  },
  {
   "cell_type": "code",
   "execution_count": 1,
   "metadata": {},
   "outputs": [
    {
     "data": {
      "text/plain": [
       "['#####', '# # #', '### #', '#  ##', '#####']"
      ]
     },
     "execution_count": 1,
     "metadata": {},
     "output_type": "execute_result"
    }
   ],
   "source": [
    "def solution(n, arr1, arr2):\n",
    "    \n",
    "    bi_arr1 = []\n",
    "    bi_arr2 = []\n",
    "    for i in range(0, len(arr1)):\n",
    "        bi_arr1.append(\"{0:b}\".format(arr1[i]))  # bin() 말고, format() 로 십진법-이진법 변환 가능.\n",
    "        bi_arr2.append(\"{0:b}\".format(arr2[i]))\n",
    "    \n",
    "    # 이진법으로 바뀐 숫자 앞에 0이 빠져있는 경우가 있음.\n",
    "    for i in range(0, len(arr1)):\n",
    "        if len(bi_arr1[i]) != n: # 0이 빠진 경우, 길이가 n보다 작으니, n과 길이가 다르면 0을 더해줌.\n",
    "            bi_arr1[i] = bi_arr1[i].zfill(n) # zfill()은 현재 스트링-개수만큼 0을 더해줌.\n",
    "        if len(bi_arr2[i]) != n:    \n",
    "            bi_arr2[i] = bi_arr2[i].zfill(n)\n",
    "    \n",
    "    answer = ['' for i in range(n)] \n",
    "    # 리스트의 길이를 지정해주어야 하는데(64p), None이나 0으로 지정하면\n",
    "    # str과 연산이 불가하다는 오류 알림. 그래서 공백으로 지정. \n",
    "                                        \n",
    "    for i in range(0, n): # n은 정수 값.\n",
    "        for j in range(0, n):\n",
    "            if bi_arr1[i][j] == '1' or bi_arr2[i][j] == '1':\n",
    "                answer[i] = answer[i] + '#' # 원소 갱신.\n",
    "            elif bi_arr1[i][j] == '0' and bi_arr2[i][j] == '0':\n",
    "                answer[i] = answer[i] + ' ' # 원소 갱신.\n",
    "            \n",
    "    return answer        \n",
    "\n",
    "n = 5\n",
    "arr1 = [9, 20, 28, 18, 11]\n",
    "arr2 = [30, 1, 21, 17, 28]\n",
    "solution(n, arr1, arr2)"
   ]
  },
  {
   "cell_type": "markdown",
   "metadata": {},
   "source": [
    "- 다른 사람의 풀이"
   ]
  },
  {
   "cell_type": "code",
   "execution_count": 3,
   "metadata": {},
   "outputs": [],
   "source": [
    "solution = lambda n, arr1, arr2: ([''.join(map(lambda x: '#' if x=='1' else ' ', \n",
    "                                               \"{0:b}\".format(row).zfill(n))) \n",
    "                                   for row in (a|b for a, b in zip(arr1, arr2))])"
   ]
  }
 ],
 "metadata": {
  "kernelspec": {
   "display_name": "Python 3",
   "language": "python",
   "name": "python3"
  },
  "language_info": {
   "codemirror_mode": {
    "name": "ipython",
    "version": 3
   },
   "file_extension": ".py",
   "mimetype": "text/x-python",
   "name": "python",
   "nbconvert_exporter": "python",
   "pygments_lexer": "ipython3",
   "version": "3.7.6"
  }
 },
 "nbformat": 4,
 "nbformat_minor": 5
}
